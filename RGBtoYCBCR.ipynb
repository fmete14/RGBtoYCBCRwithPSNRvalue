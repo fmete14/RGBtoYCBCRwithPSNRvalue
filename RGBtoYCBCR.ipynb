{
 "cells": [
  {
   "cell_type": "code",
   "execution_count": 1,
   "id": "06b4b49e",
   "metadata": {},
   "outputs": [],
   "source": [
    "import cv2\n",
    "import numpy as np\n",
    "import math\n",
    "from math import log10 , sqrt"
   ]
  },
  {
   "cell_type": "code",
   "execution_count": 4,
   "id": "029c3319",
   "metadata": {},
   "outputs": [],
   "source": [
    "def rgbtoycbcr(rgbImg):\n",
    "    rows = int(rgbImg.shape[0])\n",
    "    cols = int(rgbImg.shape[1])\n",
    "    R, G, B = cv2.split(rgbImg)\n",
    "    ycbcrImg = rgbImg.copy()\n",
    "    Y, Cb, Cr = cv2.split(ycbcrImg)\n",
    "    \n",
    "    for i in range(rows):\n",
    "        for j in range(cols):\n",
    "            \n",
    "            Y = ( (  66 * R[i,j] + 129 * G[i,j] +  25 * B[i,j] + 128) >> 8) +  16\n",
    "            Cb = ( ( -38 * R[i,j] -  74 * G[i,j] + 112 * B[i,j] + 128) >> 8) + 128\n",
    "            Cr = ( ( 112 * R[i,j] -  94 * G[i,j] -  18 * B[i,j] + 128) >> 8) + 128   \n",
    "    \n",
    "            ycbcrImg[i,j,0] = Y\n",
    "            ycbcrImg[i,j,1] = Cb\n",
    "            ycbcrImg[i,j,2] = Cr\n",
    "    \n",
    "    return ycbcrImg"
   ]
  },
  {
   "cell_type": "code",
   "execution_count": 5,
   "id": "e201eba0",
   "metadata": {},
   "outputs": [
    {
     "data": {
      "text/plain": [
       "True"
      ]
     },
     "execution_count": 5,
     "metadata": {},
     "output_type": "execute_result"
    }
   ],
   "source": [
    "img = cv2.imread('mandrill.ppm',1)\n",
    "out = rgbtoycbcr(img)\n",
    "cv2.imwrite('ycbcrImg.png',out)"
   ]
  },
  {
   "cell_type": "code",
   "execution_count": 6,
   "id": "3e988076",
   "metadata": {},
   "outputs": [],
   "source": [
    "def PSNR(original, converted):\n",
    "    mse = np.mean((original - converted) ** 2)\n",
    "    max_pixel = 255.0\n",
    "    psnr = 20 * log10(max_pixel / sqrt(mse))\n",
    "    return psnr"
   ]
  },
  {
   "cell_type": "code",
   "execution_count": 8,
   "id": "b5a9bbea",
   "metadata": {},
   "outputs": [
    {
     "name": "stdout",
     "output_type": "stream",
     "text": [
      "PSNR value between RGB and YCbCr is 27.951354441221238 dB\n"
     ]
    }
   ],
   "source": [
    "ycbcrvalue = PSNR(img, out)\n",
    "print(f\"PSNR value between RGB and YCbCr is {ycbcrvalue} dB\")"
   ]
  },
  {
   "cell_type": "code",
   "execution_count": null,
   "id": "05fc663c",
   "metadata": {},
   "outputs": [],
   "source": []
  }
 ],
 "metadata": {
  "kernelspec": {
   "display_name": "Python 3 (ipykernel)",
   "language": "python",
   "name": "python3"
  },
  "language_info": {
   "codemirror_mode": {
    "name": "ipython",
    "version": 3
   },
   "file_extension": ".py",
   "mimetype": "text/x-python",
   "name": "python",
   "nbconvert_exporter": "python",
   "pygments_lexer": "ipython3",
   "version": "3.9.7"
  }
 },
 "nbformat": 4,
 "nbformat_minor": 5
}
